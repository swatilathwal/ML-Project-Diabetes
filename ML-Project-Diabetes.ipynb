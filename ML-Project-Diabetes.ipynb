{
 "cells": [
  {
   "cell_type": "code",
   "execution_count": 1,
   "metadata": {},
   "outputs": [
    {
     "name": "stderr",
     "output_type": "stream",
     "text": [
      "Using TensorFlow backend.\n"
     ]
    }
   ],
   "source": [
    "import pandas as pd\n",
    "from sklearn.preprocessing import StandardScaler\n",
    "from sklearn.preprocessing import OneHotEncoder\n",
    "from sklearn.model_selection import train_test_split\n",
    "\n",
    "import numpy as np\n",
    "import matplotlib.pyplot as plt\n",
    "\n",
    "from sklearn.metrics import accuracy_score\n",
    "\n",
    "import keras\n",
    "from keras.models import Sequential\n",
    "from keras.layers import Dense\n",
    "\n",
    "from sklearn.model_selection import train_test_split\n",
    "from sklearn.neighbors import KNeighborsClassifier\n",
    "\n",
    "from sklearn.linear_model import LogisticRegression\n",
    "\n",
    "from sklearn.tree import DecisionTreeClassifier\n",
    "\n",
    "from sklearn.ensemble import RandomForestClassifier"
   ]
  },
  {
   "cell_type": "code",
   "execution_count": 2,
   "metadata": {},
   "outputs": [],
   "source": [
    "from sklearn.metrics import roc_auc_score, precision_score\n",
    "from sklearn.metrics import roc_curve\n",
    "from sklearn.metrics import confusion_matrix \n",
    "from matplotlib import pyplot"
   ]
  },
  {
   "cell_type": "code",
   "execution_count": 3,
   "metadata": {},
   "outputs": [],
   "source": [
    "dataset= pd.read_csv(\"/Users/swatilathwal/Downloads/diabetes.csv\")\n"
   ]
  },
  {
   "cell_type": "code",
   "execution_count": 4,
   "metadata": {},
   "outputs": [
    {
     "data": {
      "text/html": [
       "<div>\n",
       "<style scoped>\n",
       "    .dataframe tbody tr th:only-of-type {\n",
       "        vertical-align: middle;\n",
       "    }\n",
       "\n",
       "    .dataframe tbody tr th {\n",
       "        vertical-align: top;\n",
       "    }\n",
       "\n",
       "    .dataframe thead th {\n",
       "        text-align: right;\n",
       "    }\n",
       "</style>\n",
       "<table border=\"1\" class=\"dataframe\">\n",
       "  <thead>\n",
       "    <tr style=\"text-align: right;\">\n",
       "      <th></th>\n",
       "      <th>Pregnancies</th>\n",
       "      <th>Glucose</th>\n",
       "      <th>BloodPressure</th>\n",
       "      <th>SkinThickness</th>\n",
       "      <th>Insulin</th>\n",
       "      <th>BMI</th>\n",
       "      <th>DiabetesPedigreeFunction</th>\n",
       "      <th>Age</th>\n",
       "      <th>Outcome</th>\n",
       "    </tr>\n",
       "  </thead>\n",
       "  <tbody>\n",
       "    <tr>\n",
       "      <th>count</th>\n",
       "      <td>768.000000</td>\n",
       "      <td>768.000000</td>\n",
       "      <td>768.000000</td>\n",
       "      <td>768.000000</td>\n",
       "      <td>768.000000</td>\n",
       "      <td>768.000000</td>\n",
       "      <td>768.000000</td>\n",
       "      <td>768.000000</td>\n",
       "      <td>768.000000</td>\n",
       "    </tr>\n",
       "    <tr>\n",
       "      <th>mean</th>\n",
       "      <td>3.845052</td>\n",
       "      <td>120.894531</td>\n",
       "      <td>69.105469</td>\n",
       "      <td>20.536458</td>\n",
       "      <td>79.799479</td>\n",
       "      <td>31.992578</td>\n",
       "      <td>0.471876</td>\n",
       "      <td>33.240885</td>\n",
       "      <td>0.348958</td>\n",
       "    </tr>\n",
       "    <tr>\n",
       "      <th>std</th>\n",
       "      <td>3.369578</td>\n",
       "      <td>31.972618</td>\n",
       "      <td>19.355807</td>\n",
       "      <td>15.952218</td>\n",
       "      <td>115.244002</td>\n",
       "      <td>7.884160</td>\n",
       "      <td>0.331329</td>\n",
       "      <td>11.760232</td>\n",
       "      <td>0.476951</td>\n",
       "    </tr>\n",
       "    <tr>\n",
       "      <th>min</th>\n",
       "      <td>0.000000</td>\n",
       "      <td>0.000000</td>\n",
       "      <td>0.000000</td>\n",
       "      <td>0.000000</td>\n",
       "      <td>0.000000</td>\n",
       "      <td>0.000000</td>\n",
       "      <td>0.078000</td>\n",
       "      <td>21.000000</td>\n",
       "      <td>0.000000</td>\n",
       "    </tr>\n",
       "    <tr>\n",
       "      <th>25%</th>\n",
       "      <td>1.000000</td>\n",
       "      <td>99.000000</td>\n",
       "      <td>62.000000</td>\n",
       "      <td>0.000000</td>\n",
       "      <td>0.000000</td>\n",
       "      <td>27.300000</td>\n",
       "      <td>0.243750</td>\n",
       "      <td>24.000000</td>\n",
       "      <td>0.000000</td>\n",
       "    </tr>\n",
       "    <tr>\n",
       "      <th>50%</th>\n",
       "      <td>3.000000</td>\n",
       "      <td>117.000000</td>\n",
       "      <td>72.000000</td>\n",
       "      <td>23.000000</td>\n",
       "      <td>30.500000</td>\n",
       "      <td>32.000000</td>\n",
       "      <td>0.372500</td>\n",
       "      <td>29.000000</td>\n",
       "      <td>0.000000</td>\n",
       "    </tr>\n",
       "    <tr>\n",
       "      <th>75%</th>\n",
       "      <td>6.000000</td>\n",
       "      <td>140.250000</td>\n",
       "      <td>80.000000</td>\n",
       "      <td>32.000000</td>\n",
       "      <td>127.250000</td>\n",
       "      <td>36.600000</td>\n",
       "      <td>0.626250</td>\n",
       "      <td>41.000000</td>\n",
       "      <td>1.000000</td>\n",
       "    </tr>\n",
       "    <tr>\n",
       "      <th>max</th>\n",
       "      <td>17.000000</td>\n",
       "      <td>199.000000</td>\n",
       "      <td>122.000000</td>\n",
       "      <td>99.000000</td>\n",
       "      <td>846.000000</td>\n",
       "      <td>67.100000</td>\n",
       "      <td>2.420000</td>\n",
       "      <td>81.000000</td>\n",
       "      <td>1.000000</td>\n",
       "    </tr>\n",
       "  </tbody>\n",
       "</table>\n",
       "</div>"
      ],
      "text/plain": [
       "       Pregnancies     Glucose  BloodPressure  SkinThickness     Insulin  \\\n",
       "count   768.000000  768.000000     768.000000     768.000000  768.000000   \n",
       "mean      3.845052  120.894531      69.105469      20.536458   79.799479   \n",
       "std       3.369578   31.972618      19.355807      15.952218  115.244002   \n",
       "min       0.000000    0.000000       0.000000       0.000000    0.000000   \n",
       "25%       1.000000   99.000000      62.000000       0.000000    0.000000   \n",
       "50%       3.000000  117.000000      72.000000      23.000000   30.500000   \n",
       "75%       6.000000  140.250000      80.000000      32.000000  127.250000   \n",
       "max      17.000000  199.000000     122.000000      99.000000  846.000000   \n",
       "\n",
       "              BMI  DiabetesPedigreeFunction         Age     Outcome  \n",
       "count  768.000000                768.000000  768.000000  768.000000  \n",
       "mean    31.992578                  0.471876   33.240885    0.348958  \n",
       "std      7.884160                  0.331329   11.760232    0.476951  \n",
       "min      0.000000                  0.078000   21.000000    0.000000  \n",
       "25%     27.300000                  0.243750   24.000000    0.000000  \n",
       "50%     32.000000                  0.372500   29.000000    0.000000  \n",
       "75%     36.600000                  0.626250   41.000000    1.000000  \n",
       "max     67.100000                  2.420000   81.000000    1.000000  "
      ]
     },
     "execution_count": 4,
     "metadata": {},
     "output_type": "execute_result"
    }
   ],
   "source": [
    "dataset.describe()"
   ]
  },
  {
   "cell_type": "code",
   "execution_count": 5,
   "metadata": {},
   "outputs": [
    {
     "data": {
      "text/plain": [
       "<bound method DataFrame.info of      Pregnancies  Glucose  BloodPressure  SkinThickness  Insulin   BMI  \\\n",
       "0              6      148             72             35        0  33.6   \n",
       "1              1       85             66             29        0  26.6   \n",
       "2              8      183             64              0        0  23.3   \n",
       "3              1       89             66             23       94  28.1   \n",
       "4              0      137             40             35      168  43.1   \n",
       "..           ...      ...            ...            ...      ...   ...   \n",
       "763           10      101             76             48      180  32.9   \n",
       "764            2      122             70             27        0  36.8   \n",
       "765            5      121             72             23      112  26.2   \n",
       "766            1      126             60              0        0  30.1   \n",
       "767            1       93             70             31        0  30.4   \n",
       "\n",
       "     DiabetesPedigreeFunction  Age  Outcome  \n",
       "0                       0.627   50        1  \n",
       "1                       0.351   31        0  \n",
       "2                       0.672   32        1  \n",
       "3                       0.167   21        0  \n",
       "4                       2.288   33        1  \n",
       "..                        ...  ...      ...  \n",
       "763                     0.171   63        0  \n",
       "764                     0.340   27        0  \n",
       "765                     0.245   30        0  \n",
       "766                     0.349   47        1  \n",
       "767                     0.315   23        0  \n",
       "\n",
       "[768 rows x 9 columns]>"
      ]
     },
     "execution_count": 5,
     "metadata": {},
     "output_type": "execute_result"
    }
   ],
   "source": [
    "dataset.info"
   ]
  },
  {
   "cell_type": "code",
   "execution_count": 6,
   "metadata": {},
   "outputs": [
    {
     "data": {
      "text/plain": [
       "Index(['Pregnancies', 'Glucose', 'BloodPressure', 'SkinThickness', 'Insulin',\n",
       "       'BMI', 'DiabetesPedigreeFunction', 'Age', 'Outcome'],\n",
       "      dtype='object')"
      ]
     },
     "execution_count": 6,
     "metadata": {},
     "output_type": "execute_result"
    }
   ],
   "source": [
    "dataset.columns"
   ]
  },
  {
   "cell_type": "code",
   "execution_count": 7,
   "metadata": {},
   "outputs": [],
   "source": [
    "x = dataset.iloc[:,:8].values\n",
    "y = dataset.iloc[:,8:].values"
   ]
  },
  {
   "cell_type": "code",
   "execution_count": 8,
   "metadata": {},
   "outputs": [
    {
     "data": {
      "text/plain": [
       "768"
      ]
     },
     "execution_count": 8,
     "metadata": {},
     "output_type": "execute_result"
    }
   ],
   "source": [
    "len(x)"
   ]
  },
  {
   "cell_type": "code",
   "execution_count": 9,
   "metadata": {},
   "outputs": [
    {
     "data": {
      "text/plain": [
       "768"
      ]
     },
     "execution_count": 9,
     "metadata": {},
     "output_type": "execute_result"
    }
   ],
   "source": [
    "len(y)"
   ]
  },
  {
   "cell_type": "code",
   "execution_count": 10,
   "metadata": {},
   "outputs": [],
   "source": [
    "x_train, x_test, y_train, y_test = train_test_split(dataset.loc[:, dataset.columns != 'Outcome'], dataset['Outcome'], stratify=dataset['Outcome'], random_state=66)"
   ]
  },
  {
   "cell_type": "code",
   "execution_count": 12,
   "metadata": {},
   "outputs": [
    {
     "data": {
      "text/plain": [
       "506    1\n",
       "709    1\n",
       "257    0\n",
       "518    0\n",
       "432    0\n",
       "      ..\n",
       "143    1\n",
       "686    0\n",
       "681    1\n",
       "510    1\n",
       "426    0\n",
       "Name: Outcome, Length: 192, dtype: int64"
      ]
     },
     "execution_count": 12,
     "metadata": {},
     "output_type": "execute_result"
    }
   ],
   "source": [
    "y_test"
   ]
  },
  {
   "cell_type": "code",
   "execution_count": 13,
   "metadata": {},
   "outputs": [
    {
     "name": "stdout",
     "output_type": "stream",
     "text": [
      "Logistic Regression accuracy - training: 0.78125\n",
      "Logistic Regression accuracy - test: 0.7708333333333334\n"
     ]
    },
    {
     "name": "stderr",
     "output_type": "stream",
     "text": [
      "/Library/Frameworks/Python.framework/Versions/3.7/lib/python3.7/site-packages/sklearn/linear_model/logistic.py:432: FutureWarning: Default solver will be changed to 'lbfgs' in 0.22. Specify a solver to silence this warning.\n",
      "  FutureWarning)\n"
     ]
    }
   ],
   "source": [
    "#Logistic Regression\n",
    "logreg = LogisticRegression().fit(x_train, y_train)\n",
    "print(\"Logistic Regression accuracy - training: {}\".format(logreg.score(x_train, y_train)))\n",
    "print(\"Logistic Regression accuracy - test: {}\".format(logreg.score(x_test, y_test)))"
   ]
  },
  {
   "cell_type": "code",
   "execution_count": 14,
   "metadata": {},
   "outputs": [
    {
     "name": "stdout",
     "output_type": "stream",
     "text": [
      "(C=100) Logistic Regression accuracy - training: 0.7847222222222222\n",
      "(C=100) Logistic Regression accuracy - test: 0.765625\n"
     ]
    },
    {
     "name": "stderr",
     "output_type": "stream",
     "text": [
      "/Library/Frameworks/Python.framework/Versions/3.7/lib/python3.7/site-packages/sklearn/linear_model/logistic.py:432: FutureWarning: Default solver will be changed to 'lbfgs' in 0.22. Specify a solver to silence this warning.\n",
      "  FutureWarning)\n"
     ]
    }
   ],
   "source": [
    "logreg2 = LogisticRegression(C=100).fit(x_train, y_train)\n",
    "print(\"(C=100) Logistic Regression accuracy - training: {}\".format(logreg2.score(x_train, y_train)))\n",
    "print(\"(C=100) Logistic Regression accuracy - test: {}\".format(logreg2.score(x_test, y_test)))"
   ]
  },
  {
   "cell_type": "code",
   "execution_count": 15,
   "metadata": {},
   "outputs": [
    {
     "data": {
      "text/plain": [
       "<matplotlib.legend.Legend at 0x7fa36deed9d0>"
      ]
     },
     "execution_count": 15,
     "metadata": {},
     "output_type": "execute_result"
    },
    {
     "data": {
      "image/png": "[encoded data removed]",
      "text/plain": [
       "<Figure size 432x288 with 1 Axes>"
      ]
     },
     "metadata": {
      "needs_background": "light"
     },
     "output_type": "display_data"
    }
   ],
   "source": [
    "features = [x for i,x in enumerate(dataset.columns) if i!=8]\n",
    "plt.plot(logreg.coef_.T, 'o', label=\"C=1\")\n",
    "plt.plot(logreg2.coef_.T, '^', label=\"C=100\")\n",
    "plt.xticks(range(dataset.shape[1]), features, rotation=90)\n",
    "plt.hlines(0, 0, dataset.shape[1])\n",
    "plt.ylim(-5, 5)\n",
    "plt.xlabel(\"Feature\")\n",
    "plt.ylabel(\"Coefficient magnitude\")\n",
    "plt.legend(loc='upper left')"
   ]
  },
  {
   "cell_type": "code",
   "execution_count": 16,
   "metadata": {},
   "outputs": [
    {
     "name": "stdout",
     "output_type": "stream",
     "text": [
      "Decision Tree accuracy - training: 0.7725694444444444\n",
      "Decision Tree accuracy - test: 0.7395833333333334\n"
     ]
    }
   ],
   "source": [
    "#Decision Tree\n",
    "tree = DecisionTreeClassifier(max_depth=3, random_state=0)\n",
    "tree.fit(x_train, y_train)\n",
    "print(\"Decision Tree accuracy - training: {}\".format(tree.score(x_train, y_train)))\n",
    "print(\"Decision Tree accuracy - test: {}\".format(tree.score(x_test, y_test)))"
   ]
  },
  {
   "cell_type": "code",
   "execution_count": 17,
   "metadata": {},
   "outputs": [
    {
     "data": {
      "image/png": "[encoded data removed]",
      "text/plain": [
       "<Figure size 432x288 with 1 Axes>"
      ]
     },
     "metadata": {
      "needs_background": "light"
     },
     "output_type": "display_data"
    }
   ],
   "source": [
    "def ImportantFeatures(model):\n",
    "    n_features = 8\n",
    "    plt.barh(range(n_features), model.feature_importances_, align='center')\n",
    "    plt.yticks(np.arange(n_features), features)\n",
    "    plt.xlabel(\"Feature importance\")\n",
    "    plt.ylabel(\"Feature\")\n",
    "    plt.ylim(-1, n_features)\n",
    "ImportantFeatures(tree)"
   ]
  },
  {
   "cell_type": "code",
   "execution_count": 18,
   "metadata": {},
   "outputs": [],
   "source": [
    "#KNN\n",
    "training_accuracy = []\n",
    "test_accuracy = []"
   ]
  },
  {
   "cell_type": "code",
   "execution_count": 19,
   "metadata": {},
   "outputs": [],
   "source": [
    "neighbors_settings = range(1, 11)\n",
    "for n_neighbors in neighbors_settings:\n",
    "    # build the model\n",
    "    knn = KNeighborsClassifier(n_neighbors=n_neighbors)\n",
    "    knn.fit(x_train, y_train)\n",
    "    # record training set accuracy\n",
    "    training_accuracy.append(knn.score(x_train, y_train))\n",
    "    # record test set accuracy\n",
    "    test_accuracy.append(knn.score(x_test, y_test))"
   ]
  },
  {
   "cell_type": "code",
   "execution_count": 20,
   "metadata": {},
   "outputs": [
    {
     "data": {
      "text/plain": [
       "<matplotlib.legend.Legend at 0x7fa36e422110>"
      ]
     },
     "execution_count": 20,
     "metadata": {},
     "output_type": "execute_result"
    },
    {
     "data": {
      "image/png": "[encoded data removed]",
      "text/plain": [
       "<Figure size 432x288 with 1 Axes>"
      ]
     },
     "metadata": {
      "needs_background": "light"
     },
     "output_type": "display_data"
    }
   ],
   "source": [
    "plt.plot(neighbors_settings, training_accuracy, label=\"training accuracy\")\n",
    "plt.plot(neighbors_settings, test_accuracy, label=\"test accuracy\")\n",
    "plt.ylabel(\"Accuracy\")\n",
    "plt.xlabel(\"n_neighbors\")\n",
    "plt.title('Model accuracy')\n",
    "plt.legend()"
   ]
  },
  {
   "cell_type": "code",
   "execution_count": 21,
   "metadata": {},
   "outputs": [
    {
     "name": "stdout",
     "output_type": "stream",
     "text": [
      "KNN classifier accuracy - training: 0.7743055555555556\n",
      "KNN classifier accuracy - test: 0.7708333333333334\n"
     ]
    }
   ],
   "source": [
    "print('KNN classifier accuracy - training: {}'.format(knn.score(x_train, y_train)))\n",
    "print('KNN classifier accuracy - test: {}'.format(knn.score(x_test, y_test)))"
   ]
  },
  {
   "cell_type": "code",
   "execution_count": 22,
   "metadata": {},
   "outputs": [
    {
     "name": "stdout",
     "output_type": "stream",
     "text": [
      "Random Forest accuracy - training: 1.0\n",
      "Random Forest accuracy - test: 0.7864583333333334\n"
     ]
    }
   ],
   "source": [
    "#Ramdom Forest \n",
    "RandomForest = RandomForestClassifier(n_estimators=100, random_state=0)\n",
    "RandomForest.fit(x_train, y_train)\n",
    "print(\"Random Forest accuracy - training: {}\".format(RandomForest.score(x_train, y_train)))\n",
    "print(\"Random Forest accuracy - test: {}\".format(RandomForest.score(x_test, y_test)))"
   ]
  },
  {
   "cell_type": "code",
   "execution_count": 23,
   "metadata": {},
   "outputs": [
    {
     "data": {
      "image/png": "[encoded data removed]",
      "text/plain": [
       "<Figure size 432x288 with 1 Axes>"
      ]
     },
     "metadata": {
      "needs_background": "light"
     },
     "output_type": "display_data"
    }
   ],
   "source": [
    "ImportantFeatures(RandomForest)"
   ]
  },
  {
   "cell_type": "code",
   "execution_count": 24,
   "metadata": {},
   "outputs": [],
   "source": [
    "#Neural Network\n",
    "sc = StandardScaler()\n",
    "x = sc.fit_transform(x)"
   ]
  },
  {
   "cell_type": "code",
   "execution_count": 25,
   "metadata": {},
   "outputs": [
    {
     "data": {
      "text/plain": [
       "array([[ 0.63994726,  0.84832379,  0.14964075, ...,  0.20401277,\n",
       "         0.46849198,  1.4259954 ],\n",
       "       [-0.84488505, -1.12339636, -0.16054575, ..., -0.68442195,\n",
       "        -0.36506078, -0.19067191],\n",
       "       [ 1.23388019,  1.94372388, -0.26394125, ..., -1.10325546,\n",
       "         0.60439732, -0.10558415],\n",
       "       ...,\n",
       "       [ 0.3429808 ,  0.00330087,  0.14964075, ..., -0.73518964,\n",
       "        -0.68519336, -0.27575966],\n",
       "       [-0.84488505,  0.1597866 , -0.47073225, ..., -0.24020459,\n",
       "        -0.37110101,  1.17073215],\n",
       "       [-0.84488505, -0.8730192 ,  0.04624525, ..., -0.20212881,\n",
       "        -0.47378505, -0.87137393]])"
      ]
     },
     "execution_count": 25,
     "metadata": {},
     "output_type": "execute_result"
    }
   ],
   "source": [
    "x"
   ]
  },
  {
   "cell_type": "code",
   "execution_count": 26,
   "metadata": {},
   "outputs": [
    {
     "name": "stderr",
     "output_type": "stream",
     "text": [
      "/Library/Frameworks/Python.framework/Versions/3.7/lib/python3.7/site-packages/sklearn/preprocessing/_encoders.py:415: FutureWarning: The handling of integer data will change in version 0.22. Currently, the categories are determined based on the range [0, max(values)], while in the future they will be determined based on the unique values.\n",
      "If you want the future behaviour and silence this warning, you can specify \"categories='auto'\".\n",
      "In case you used a LabelEncoder before this OneHotEncoder to convert the categories to integers, then you can now use the OneHotEncoder directly.\n",
      "  warnings.warn(msg, FutureWarning)\n"
     ]
    }
   ],
   "source": [
    "ohe = OneHotEncoder()\n",
    "y = ohe.fit_transform(y).toarray()"
   ]
  },
  {
   "cell_type": "code",
   "execution_count": 27,
   "metadata": {},
   "outputs": [
    {
     "data": {
      "text/plain": [
       "array([[0., 1.],\n",
       "       [1., 0.],\n",
       "       [0., 1.],\n",
       "       ...,\n",
       "       [1., 0.],\n",
       "       [0., 1.],\n",
       "       [1., 0.]])"
      ]
     },
     "execution_count": 27,
     "metadata": {},
     "output_type": "execute_result"
    }
   ],
   "source": [
    "y"
   ]
  },
  {
   "cell_type": "code",
   "execution_count": 28,
   "metadata": {},
   "outputs": [],
   "source": [
    "x_train,x_test,y_train,y_test = train_test_split(x,y,test_size = 0.3)"
   ]
  },
  {
   "cell_type": "code",
   "execution_count": 29,
   "metadata": {},
   "outputs": [],
   "source": [
    "model = Sequential()\n",
    "model.add(Dense(16, input_dim=8, activation='relu'))\n",
    "model.add(Dense(12, activation= 'relu'))\n",
    "model.add(Dense(2, activation= 'softmax'))"
   ]
  },
  {
   "cell_type": "code",
   "execution_count": 30,
   "metadata": {},
   "outputs": [],
   "source": [
    "model.compile(loss='categorical_crossentropy', optimizer='adam', metrics=['accuracy'])"
   ]
  },
  {
   "cell_type": "code",
   "execution_count": 31,
   "metadata": {},
   "outputs": [
    {
     "name": "stdout",
     "output_type": "stream",
     "text": [
      "Epoch 1/50\n",
      "17/17 [==============================] - 0s 10ms/step - loss: 0.6723 - accuracy: 0.6201 - val_loss: 0.6554 - val_accuracy: 0.6320\n",
      "Epoch 2/50\n",
      "17/17 [==============================] - 0s 2ms/step - loss: 0.6291 - accuracy: 0.6704 - val_loss: 0.6331 - val_accuracy: 0.6450\n",
      "Epoch 3/50\n",
      "17/17 [==============================] - 0s 2ms/step - loss: 0.5982 - accuracy: 0.6723 - val_loss: 0.6176 - val_accuracy: 0.6494\n",
      "Epoch 4/50\n",
      "17/17 [==============================] - 0s 2ms/step - loss: 0.5747 - accuracy: 0.6741 - val_loss: 0.6057 - val_accuracy: 0.6537\n",
      "Epoch 5/50\n",
      "17/17 [==============================] - 0s 3ms/step - loss: 0.5560 - accuracy: 0.6834 - val_loss: 0.5981 - val_accuracy: 0.6667\n",
      "Epoch 6/50\n",
      "17/17 [==============================] - 0s 2ms/step - loss: 0.5402 - accuracy: 0.7020 - val_loss: 0.5906 - val_accuracy: 0.6883\n",
      "Epoch 7/50\n",
      "17/17 [==============================] - 0s 2ms/step - loss: 0.5277 - accuracy: 0.7058 - val_loss: 0.5835 - val_accuracy: 0.7100\n",
      "Epoch 8/50\n",
      "17/17 [==============================] - 0s 2ms/step - loss: 0.5165 - accuracy: 0.7244 - val_loss: 0.5777 - val_accuracy: 0.7056\n",
      "Epoch 9/50\n",
      "17/17 [==============================] - 0s 2ms/step - loss: 0.5065 - accuracy: 0.7430 - val_loss: 0.5713 - val_accuracy: 0.7013\n",
      "Epoch 10/50\n",
      "17/17 [==============================] - 0s 2ms/step - loss: 0.4982 - accuracy: 0.7542 - val_loss: 0.5681 - val_accuracy: 0.7186\n",
      "Epoch 11/50\n",
      "17/17 [==============================] - 0s 2ms/step - loss: 0.4904 - accuracy: 0.7542 - val_loss: 0.5643 - val_accuracy: 0.7143\n",
      "Epoch 12/50\n",
      "17/17 [==============================] - 0s 3ms/step - loss: 0.4846 - accuracy: 0.7598 - val_loss: 0.5586 - val_accuracy: 0.7143\n",
      "Epoch 13/50\n",
      "17/17 [==============================] - 0s 2ms/step - loss: 0.4784 - accuracy: 0.7784 - val_loss: 0.5536 - val_accuracy: 0.7229\n",
      "Epoch 14/50\n",
      "17/17 [==============================] - 0s 2ms/step - loss: 0.4722 - accuracy: 0.7933 - val_loss: 0.5510 - val_accuracy: 0.7316\n",
      "Epoch 15/50\n",
      "17/17 [==============================] - 0s 2ms/step - loss: 0.4665 - accuracy: 0.7914 - val_loss: 0.5478 - val_accuracy: 0.7316\n",
      "Epoch 16/50\n",
      "17/17 [==============================] - 0s 2ms/step - loss: 0.4611 - accuracy: 0.7989 - val_loss: 0.5458 - val_accuracy: 0.7316\n",
      "Epoch 17/50\n",
      "17/17 [==============================] - 0s 2ms/step - loss: 0.4561 - accuracy: 0.7952 - val_loss: 0.5428 - val_accuracy: 0.7403\n",
      "Epoch 18/50\n",
      "17/17 [==============================] - 0s 2ms/step - loss: 0.4525 - accuracy: 0.8026 - val_loss: 0.5399 - val_accuracy: 0.7273\n",
      "Epoch 19/50\n",
      "17/17 [==============================] - 0s 2ms/step - loss: 0.4483 - accuracy: 0.8007 - val_loss: 0.5392 - val_accuracy: 0.7229\n",
      "Epoch 20/50\n",
      "17/17 [==============================] - 0s 2ms/step - loss: 0.4444 - accuracy: 0.8045 - val_loss: 0.5383 - val_accuracy: 0.7229\n",
      "Epoch 21/50\n",
      "17/17 [==============================] - 0s 3ms/step - loss: 0.4410 - accuracy: 0.8063 - val_loss: 0.5351 - val_accuracy: 0.7316\n",
      "Epoch 22/50\n",
      "17/17 [==============================] - 0s 2ms/step - loss: 0.4375 - accuracy: 0.8045 - val_loss: 0.5343 - val_accuracy: 0.7316\n",
      "Epoch 23/50\n",
      "17/17 [==============================] - 0s 2ms/step - loss: 0.4344 - accuracy: 0.8045 - val_loss: 0.5348 - val_accuracy: 0.7273\n",
      "Epoch 24/50\n",
      "17/17 [==============================] - 0s 2ms/step - loss: 0.4319 - accuracy: 0.8082 - val_loss: 0.5336 - val_accuracy: 0.7316\n",
      "Epoch 25/50\n",
      "17/17 [==============================] - 0s 2ms/step - loss: 0.4291 - accuracy: 0.8138 - val_loss: 0.5319 - val_accuracy: 0.7273\n",
      "Epoch 26/50\n",
      "17/17 [==============================] - 0s 2ms/step - loss: 0.4261 - accuracy: 0.8101 - val_loss: 0.5344 - val_accuracy: 0.7316\n",
      "Epoch 27/50\n",
      "17/17 [==============================] - 0s 2ms/step - loss: 0.4245 - accuracy: 0.8082 - val_loss: 0.5346 - val_accuracy: 0.7316\n",
      "Epoch 28/50\n",
      "17/17 [==============================] - 0s 2ms/step - loss: 0.4226 - accuracy: 0.8101 - val_loss: 0.5341 - val_accuracy: 0.7316\n",
      "Epoch 29/50\n",
      "17/17 [==============================] - 0s 2ms/step - loss: 0.4198 - accuracy: 0.8156 - val_loss: 0.5338 - val_accuracy: 0.7273\n",
      "Epoch 30/50\n",
      "17/17 [==============================] - 0s 2ms/step - loss: 0.4172 - accuracy: 0.8175 - val_loss: 0.5349 - val_accuracy: 0.7316\n",
      "Epoch 31/50\n",
      "17/17 [==============================] - 0s 3ms/step - loss: 0.4156 - accuracy: 0.8156 - val_loss: 0.5359 - val_accuracy: 0.7403\n",
      "Epoch 32/50\n",
      "17/17 [==============================] - 0s 2ms/step - loss: 0.4128 - accuracy: 0.8175 - val_loss: 0.5362 - val_accuracy: 0.7359\n",
      "Epoch 33/50\n",
      "17/17 [==============================] - 0s 2ms/step - loss: 0.4110 - accuracy: 0.8212 - val_loss: 0.5365 - val_accuracy: 0.7273\n",
      "Epoch 34/50\n",
      "17/17 [==============================] - 0s 2ms/step - loss: 0.4096 - accuracy: 0.8156 - val_loss: 0.5359 - val_accuracy: 0.7316\n",
      "Epoch 35/50\n",
      "17/17 [==============================] - 0s 2ms/step - loss: 0.4090 - accuracy: 0.8045 - val_loss: 0.5398 - val_accuracy: 0.7359\n",
      "Epoch 36/50\n",
      "17/17 [==============================] - 0s 2ms/step - loss: 0.4065 - accuracy: 0.8194 - val_loss: 0.5393 - val_accuracy: 0.7316\n",
      "Epoch 37/50\n",
      "17/17 [==============================] - 0s 2ms/step - loss: 0.4040 - accuracy: 0.8175 - val_loss: 0.5389 - val_accuracy: 0.7359\n",
      "Epoch 38/50\n",
      "17/17 [==============================] - 0s 2ms/step - loss: 0.4024 - accuracy: 0.8156 - val_loss: 0.5400 - val_accuracy: 0.7359\n",
      "Epoch 39/50\n",
      "17/17 [==============================] - 0s 2ms/step - loss: 0.4005 - accuracy: 0.8138 - val_loss: 0.5412 - val_accuracy: 0.7316\n",
      "Epoch 40/50\n",
      "17/17 [==============================] - 0s 2ms/step - loss: 0.3989 - accuracy: 0.8119 - val_loss: 0.5414 - val_accuracy: 0.7359\n",
      "Epoch 41/50\n",
      "17/17 [==============================] - 0s 2ms/step - loss: 0.3979 - accuracy: 0.8119 - val_loss: 0.5441 - val_accuracy: 0.7359\n",
      "Epoch 42/50\n",
      "17/17 [==============================] - 0s 2ms/step - loss: 0.3964 - accuracy: 0.8156 - val_loss: 0.5436 - val_accuracy: 0.7403\n",
      "Epoch 43/50\n",
      "17/17 [==============================] - 0s 2ms/step - loss: 0.3949 - accuracy: 0.8156 - val_loss: 0.5436 - val_accuracy: 0.7359\n",
      "Epoch 44/50\n",
      "17/17 [==============================] - 0s 2ms/step - loss: 0.3935 - accuracy: 0.8119 - val_loss: 0.5449 - val_accuracy: 0.7359\n",
      "Epoch 45/50\n",
      "17/17 [==============================] - 0s 2ms/step - loss: 0.3924 - accuracy: 0.8101 - val_loss: 0.5447 - val_accuracy: 0.7359\n",
      "Epoch 46/50\n",
      "17/17 [==============================] - 0s 2ms/step - loss: 0.3909 - accuracy: 0.8119 - val_loss: 0.5456 - val_accuracy: 0.7359\n",
      "Epoch 47/50\n",
      "17/17 [==============================] - 0s 2ms/step - loss: 0.3889 - accuracy: 0.8212 - val_loss: 0.5496 - val_accuracy: 0.7316\n",
      "Epoch 48/50\n",
      "17/17 [==============================] - 0s 2ms/step - loss: 0.3870 - accuracy: 0.8156 - val_loss: 0.5480 - val_accuracy: 0.7316\n",
      "Epoch 49/50\n",
      "17/17 [==============================] - 0s 2ms/step - loss: 0.3859 - accuracy: 0.8194 - val_loss: 0.5478 - val_accuracy: 0.7316\n",
      "Epoch 50/50\n",
      "17/17 [==============================] - 0s 2ms/step - loss: 0.3840 - accuracy: 0.8231 - val_loss: 0.5498 - val_accuracy: 0.7316\n"
     ]
    }
   ],
   "source": [
    "history = model.fit(x_train, y_train, validation_data = (x_test,y_test), epochs=50, batch_size=32)"
   ]
  },
  {
   "cell_type": "code",
   "execution_count": 32,
   "metadata": {},
   "outputs": [
    {
     "data": {
      "image/png": "[encoded data removed]",
      "text/plain": [
       "<Figure size 432x288 with 1 Axes>"
      ]
     },
     "metadata": {
      "needs_background": "light"
     },
     "output_type": "display_data"
    }
   ],
   "source": [
    "plt.plot(history.history['accuracy'])\n",
    "plt.plot(history.history['val_accuracy'])\n",
    "plt.title('Model accuracy')\n",
    "plt.ylabel('Accuracy')\n",
    "plt.xlabel('Epoch')\n",
    "plt.legend(['Train', 'Test'], loc='upper left')\n",
    "plt.show()"
   ]
  },
  {
   "cell_type": "code",
   "execution_count": 33,
   "metadata": {},
   "outputs": [],
   "source": [
    "acc = history.history['val_accuracy']"
   ]
  },
  {
   "cell_type": "code",
   "execution_count": 34,
   "metadata": {},
   "outputs": [
    {
     "name": "stdout",
     "output_type": "stream",
     "text": [
      "0.7204329001903534\n"
     ]
    }
   ],
   "source": [
    "print(sum(acc)/len(acc))"
   ]
  },
  {
   "cell_type": "code",
   "execution_count": 35,
   "metadata": {},
   "outputs": [
    {
     "data": {
      "image/png": "[encoded data removed]",
      "text/plain": [
       "<Figure size 432x288 with 1 Axes>"
      ]
     },
     "metadata": {
      "needs_background": "light"
     },
     "output_type": "display_data"
    }
   ],
   "source": [
    "plt.plot(history.history['loss']) \n",
    "plt.plot(history.history['val_loss']) \n",
    "plt.title('Model loss') \n",
    "plt.ylabel('Loss') \n",
    "plt.xlabel('Epoch') \n",
    "plt.legend(['Train', 'Test'], loc='upper left') \n",
    "plt.show()"
   ]
  }
 ],
 "metadata": {
  "kernelspec": {
   "display_name": "Python 3",
   "language": "python",
   "name": "python3"
  },
  "language_info": {
   "codemirror_mode": {
    "name": "ipython",
    "version": 3
   },
   "file_extension": ".py",
   "mimetype": "text/x-python",
   "name": "python",
   "nbconvert_exporter": "python",
   "pygments_lexer": "ipython3",
   "version": "3.8.3"
  }
 },
 "nbformat": 4,
 "nbformat_minor": 4
}
